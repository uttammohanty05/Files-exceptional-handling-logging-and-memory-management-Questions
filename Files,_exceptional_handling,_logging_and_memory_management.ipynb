{
  "nbformat": 4,
  "nbformat_minor": 0,
  "metadata": {
    "colab": {
      "provenance": []
    },
    "kernelspec": {
      "name": "python3",
      "display_name": "Python 3"
    },
    "language_info": {
      "name": "python"
    }
  },
  "cells": [
    {
      "cell_type": "markdown",
      "source": [
        "# theoretical Question\n"
      ],
      "metadata": {
        "id": "DbxrM4x6C7VW"
      }
    },
    {
      "cell_type": "markdown",
      "source": [
        "01. What is the difference between interpreted and compiled languages ?"
      ],
      "metadata": {
        "id": "kP_WCGqnDZr1"
      }
    },
    {
      "cell_type": "markdown",
      "source": [
        "Ans:-**Compiled Languages**  \n",
        "\n",
        "  - Translated into machine code before\n",
        "    running  \n",
        "  -  Faster execution  \n",
        "  -  Needs compilation step  \n",
        "  -  Examples**: C, C++, Go\n",
        "\n",
        "     **Interpreted Languages**  \n",
        "\n",
        "  - Run line-by-line at runtime  \n",
        "  - Slower execution  \n",
        "  - Easier to test & debug  \n",
        "  - Examples: Python, JavaScript, Ruby\n",
        "\n"
      ],
      "metadata": {
        "id": "z0TwqTMYDhCW"
      }
    },
    {
      "cell_type": "markdown",
      "source": [
        "02.  What is exception handling in Python ?"
      ],
      "metadata": {
        "id": "iUSbv3icEnPh"
      }
    },
    {
      "cell_type": "markdown",
      "source": [
        "Ans:- **Exception handling in Python** is a way to manage errors that occur during program execution. It uses `try`, `except`, `else`, and `finally` blocks to catch and handle exceptions, allowing the program to continue running instead of crashing."
      ],
      "metadata": {
        "id": "k1wU1e2fEsgs"
      }
    },
    {
      "cell_type": "markdown",
      "source": [
        "03. What is the purpose of the finally block in exception handling ?"
      ],
      "metadata": {
        "id": "kmbSQPPdE9RF"
      }
    },
    {
      "cell_type": "markdown",
      "source": [
        "Ans:- The **`finally` block** in Python is used to define code that **always runs**, **no matter what**—whether an exception occurred or not. It’s typically used for **cleanup actions** like closing files or releasing resources."
      ],
      "metadata": {
        "id": "LYeHSjECFBxl"
      }
    },
    {
      "cell_type": "markdown",
      "source": [
        "04. What is logging in Python ?"
      ],
      "metadata": {
        "id": "WzG4bd9gFOR7"
      }
    },
    {
      "cell_type": "markdown",
      "source": [
        "Ans:- **Logging in Python** is the process of recording messages that describe events in a program. It helps with **debugging**, **monitoring**, and **tracking errors or important actions**.\n",
        "\n",
        "Python provides a built-in `logging` module to create logs of different levels like:\n",
        "\n",
        "- `DEBUG` – Detailed info (for developers)\n",
        "- `INFO` – General information\n",
        "- `WARNING` – Something unexpected, but not an error\n",
        "- `ERROR` – A more serious problem\n",
        "- `CRITICAL` – A very serious error\n",
        "\n",
        "Logging is better than using `print()` because it's more flexible and can write to files, show timestamps, and control log levels."
      ],
      "metadata": {
        "id": "NH72rFzmFSyz"
      }
    },
    {
      "cell_type": "markdown",
      "source": [
        "05. What is the significance of the __del__ method in Python ?"
      ],
      "metadata": {
        "id": "8r8tDhCQHIvz"
      }
    },
    {
      "cell_type": "markdown",
      "source": [
        "Ans:- The __del__ method in Python is a destructor. It's called automatically when an object is about to be destroyed (i.e., when it is garbage collected).\n",
        "\n"
      ],
      "metadata": {
        "id": "SNcsKDgyJUBv"
      }
    },
    {
      "cell_type": "markdown",
      "source": [
        "06. What is the difference between import and from ... import in Python ?"
      ],
      "metadata": {
        "id": "mNqEfW4BJXq_"
      }
    },
    {
      "cell_type": "markdown",
      "source": [
        "Ans:- In Python:\n",
        "\n",
        "- **`import module`** imports the **entire module**; you access items using `module.name`.\n",
        "- **`from module import name`** imports a **specific item** from the module; you can use it **directly** without the module name."
      ],
      "metadata": {
        "id": "25Yf13sIJbZv"
      }
    },
    {
      "cell_type": "markdown",
      "source": [
        "07. How can you handle multiple exceptions in Python ?"
      ],
      "metadata": {
        "id": "L1mKFgy3JqhJ"
      }
    },
    {
      "cell_type": "markdown",
      "source": [
        "Ans:- In Python, you can handle multiple exceptions by:\n",
        "\n",
        "- Using **multiple `except` blocks** to handle different exceptions separately.\n",
        "- Using a **single `except` block** with a tuple to catch multiple exceptions at once."
      ],
      "metadata": {
        "id": "sH040QBfJuzv"
      }
    },
    {
      "cell_type": "markdown",
      "source": [
        "08. What is the purpose of the with statement when handling files in Python ?"
      ],
      "metadata": {
        "id": "aZjd3v6AJ7Y_"
      }
    },
    {
      "cell_type": "markdown",
      "source": [
        "Ans:- The **`with` statement** in Python is used to **simplify resource management**, particularly when handling files. It ensures that the file is **properly closed** after the block of code is executed, even if an error occurs, without needing to manually call `file.close()`.\n",
        "\n",
        "### Purpose:\n",
        "- **Automatically closes** the file when the block is exited.\n",
        "- Ensures proper **resource cleanup** (e.g., closing files, releasing locks).\n",
        "  \n"
      ],
      "metadata": {
        "id": "2MRe6eFjJ_G-"
      }
    },
    {
      "cell_type": "markdown",
      "source": [
        "09.  What is the difference between multithreading and multiprocessing ?"
      ],
      "metadata": {
        "id": "qAlmefRPKJ_n"
      }
    },
    {
      "cell_type": "markdown",
      "source": [
        "Ans:- ### **Multithreading**:\n",
        "- Multiple threads run within a **single process**.\n",
        "- Best for **I/O-bound** tasks.\n",
        "- Threads share memory space but may face issues like race conditions.\n",
        "\n",
        "### **Multiprocessing**:\n",
        "- Multiple processes, each with its own **memory space**.\n",
        "- Best for **CPU-bound** tasks.\n",
        "- Avoids issues like race conditions and bypasses the **GIL** for true parallelism."
      ],
      "metadata": {
        "id": "QIc8i0VZKnBt"
      }
    },
    {
      "cell_type": "markdown",
      "source": [
        "10. What are the advantages of using logging in a program ?"
      ],
      "metadata": {
        "id": "AFwg1aYMK02G"
      }
    },
    {
      "cell_type": "markdown",
      "source": [
        "Ans:- ### **Advantages of Using Logging in a Program**:\n",
        "\n",
        "1. **Debugging**: Helps identify issues by recording error messages and debugging information.\n",
        "2. **Monitoring**: Allows tracking of program behavior and performance over time.\n",
        "3. **Persistence**: Logs can be saved to files, providing a record of events for future analysis.\n",
        "4. **Error Reporting**: Captures errors and exceptions, aiding in troubleshooting without interrupting the program.\n",
        "5. **Level Control**: Logs can be categorized by severity (e.g., `INFO`, `ERROR`, `DEBUG`), allowing for flexible output and filtering.\n",
        "6. **Security**: Helps track security-related events (like unauthorized access attempts).\n",
        "7. **Consistency**: Ensures consistent reporting across different parts of the program.\n",
        "\n"
      ],
      "metadata": {
        "id": "iFcKX81KLFDn"
      }
    },
    {
      "cell_type": "markdown",
      "source": [
        "11. What is memory management in Python ?"
      ],
      "metadata": {
        "id": "JTVsKX9BLXTF"
      }
    },
    {
      "cell_type": "markdown",
      "source": [
        "Ans:- **Memory management in Python** refers to how Python **allocates, tracks, and deallocates memory** for objects during the execution of a program.\n",
        "\n",
        "### Key Aspects:\n",
        "1. **Automatic Memory Allocation**: Python automatically handles memory allocation for objects when they are created.\n",
        "2. **Garbage Collection**: Python uses **reference counting** and **garbage collection** to manage memory. When an object’s reference count drops to zero (no longer in use), Python automatically frees the memory.\n",
        "3. **Reference Counting**: Each object has a reference count; when it reaches zero, the memory is freed.\n",
        "4. **Garbage Collector**: Python’s garbage collector handles cyclic references (when objects reference each other in a cycle) that cannot be handled by reference counting alone.\n",
        "5. **Memory Pools**: Python uses an internal memory management system (e.g., **pymalloc**) to optimize memory allocation and deallocation.\n",
        "\n"
      ],
      "metadata": {
        "id": "j05mupQKLb4F"
      }
    },
    {
      "cell_type": "markdown",
      "source": [
        "12. What are the basic steps involved in exception handling in Python ?"
      ],
      "metadata": {
        "id": "ULOKR68aLkvd"
      }
    },
    {
      "cell_type": "markdown",
      "source": [
        "Ans:- Exception handling in Python involves:\n",
        "\n",
        "1. **`try`**: Code that might raise an exception.\n",
        "2. **`except`**: Handle the exception if it occurs.\n",
        "3. **`else`** (optional): Code that runs if no exception occurs.\n",
        "4. **`finally`** (optional): Code that always runs, regardless of exceptions."
      ],
      "metadata": {
        "id": "OzLHYa4tLw6t"
      }
    },
    {
      "cell_type": "markdown",
      "source": [
        "13. Why is memory management important in Python ?"
      ],
      "metadata": {
        "id": "7xbO_tfFLzn8"
      }
    },
    {
      "cell_type": "markdown",
      "source": [
        "Ans:- **Memory management** in Python is important because:\n",
        "\n",
        "1. **Efficient Resource Use**: Proper memory management ensures that the program uses memory efficiently, preventing wastage.\n",
        "2. **Avoids Memory Leaks**: It helps avoid memory leaks (unused memory not being freed), ensuring long-running programs don't consume excessive memory.\n",
        "3. **Improves Performance**: Proper allocation and deallocation can improve the program's overall performance by reducing memory overhead.\n",
        "4. **Prevents Crashes**: Improper memory management can cause crashes or slowdowns due to out-of-memory errors.\n",
        "5. **Automatic Management**: Python’s automatic memory management (via reference counting and garbage collection) simplifies development by freeing developers from manual memory handling.\n",
        "\n"
      ],
      "metadata": {
        "id": "FvEQrOGpL7y1"
      }
    },
    {
      "cell_type": "markdown",
      "source": [
        "14.  What is the role of try and except in exception handling ?"
      ],
      "metadata": {
        "id": "EPE5IHy2L_f8"
      }
    },
    {
      "cell_type": "markdown",
      "source": [
        "Ans:- The role of **`try`** and **`except`** in exception handling is as follows:\n",
        "\n",
        "- **`try`**: Contains the code that might raise an exception. If an error occurs, the program will jump to the corresponding `except` block.\n",
        "- **`except`**: Catches and handles the exception raised in the `try` block, allowing the program to continue running rather than crashing.\n",
        "\n"
      ],
      "metadata": {
        "id": "Ykv9wHIXMb_L"
      }
    },
    {
      "cell_type": "markdown",
      "source": [
        "15.  How does Python's garbage collection system work ?"
      ],
      "metadata": {
        "id": "50Sk9Vs4MhZ1"
      }
    },
    {
      "cell_type": "markdown",
      "source": [
        "Ans:- Python's **garbage collection system** manages memory automatically by reclaiming memory that is no longer in use. It primarily uses two techniques:\n",
        "\n",
        "### 1. **Reference Counting**:\n",
        "- Each object in Python has a **reference count**, which tracks how many references (variables) point to that object.\n",
        "- When the reference count drops to **zero** (no references left), the object is considered **unreachable** and is **deleted**, freeing up memory.\n",
        "\n",
        "### 2. **Garbage Collector (GC)**:\n",
        "- Python also has a **cyclic garbage collector** that deals with **cyclic references** (when two or more objects reference each other).\n",
        "- The garbage collector periodically checks for **cyclic references** (that reference counting can't clean up) and removes them, ensuring memory is freed.\n",
        "\n",
        "### Key Points:\n",
        "- **Automatic memory management**: Python handles memory allocation and deallocation automatically.\n",
        "- **Cycles are detected**: The GC handles circular references that reference counting can’t clean up.\n",
        "\n"
      ],
      "metadata": {
        "id": "Ej4KigrGMpQ9"
      }
    },
    {
      "cell_type": "markdown",
      "source": [
        "16. What is the purpose of the else block in exception handling ?"
      ],
      "metadata": {
        "id": "D465S00sMyFk"
      }
    },
    {
      "cell_type": "markdown",
      "source": [
        "Ans:- The purpose of the **`else` block** in exception handling is to define code that should run only if the **`try` block** executes successfully without raising any exceptions. It allows for separating normal execution flow from error-handling code, ensuring that certain actions are only taken when no errors occur."
      ],
      "metadata": {
        "id": "ApmKEnYkNMT_"
      }
    },
    {
      "cell_type": "markdown",
      "source": [
        "17. What are the common logging levels in Python ?"
      ],
      "metadata": {
        "id": "eZdPUZ8HNdZD"
      }
    },
    {
      "cell_type": "markdown",
      "source": [
        "Ans:- The common logging levels in Python, ordered from lowest to highest severity, are:\n",
        "\n",
        "1. **`DEBUG`**: Detailed information, typically useful for diagnosing problems during development.\n",
        "2. **`INFO`**: General information about program execution, useful for tracking normal operations.\n",
        "3. **`WARNING`**: Indicates something unexpected or a potential problem, but not an error.\n",
        "4. **`ERROR`**: An error occurred, but the program can still run.\n",
        "5. **`CRITICAL`**: A very serious error that may prevent the program from continuing.\n",
        "\n",
        "These levels help categorize log messages based on their importance and can be filtered accordingly."
      ],
      "metadata": {
        "id": "AnGBeyCCNjIK"
      }
    },
    {
      "cell_type": "markdown",
      "source": [
        "18. What is the difference between os.fork() and multiprocessing in Python ?"
      ],
      "metadata": {
        "id": "08M8em_ENqzz"
      }
    },
    {
      "cell_type": "markdown",
      "source": [
        "Ans:- **`os.fork()`**:\n",
        "- Available only on **Unix-based** systems.\n",
        "- Creates a **child process** that shares the same memory space as the parent initially.\n",
        "- Lower-level, manual process management.\n",
        "\n",
        "**`multiprocessing`**:\n",
        "- **Cross-platform** (works on Windows and Unix).\n",
        "- Creates **separate memory spaces** for each process.\n",
        "- Higher-level API for managing processes, inter-process communication, and synchronization."
      ],
      "metadata": {
        "id": "aYe-qMlBN7bJ"
      }
    },
    {
      "cell_type": "markdown",
      "source": [
        "19. What is the importance of closing a file in Python ?"
      ],
      "metadata": {
        "id": "bWepccUPOK6L"
      }
    },
    {
      "cell_type": "markdown",
      "source": [
        "Ans:- Closing a file in Python is important because:\n",
        "\n",
        "1. **Releases Resources**: It frees up system resources (like file handles) that are no longer needed.\n",
        "2. **Prevents Data Loss**: Ensures that all data is written to the file and that no data is left in the buffer.\n",
        "3. **Avoids Memory Leaks**: Prevents unnecessary memory consumption by closing files that are no longer in use.\n",
        "4. **Prevents File Corruption**: Ensures the file is properly closed, preventing potential file corruption.\n",
        "\n"
      ],
      "metadata": {
        "id": "kYq1HzKmOTiq"
      }
    },
    {
      "cell_type": "markdown",
      "source": [
        "20. What is the difference between file.read() and file.readline() in Python ?"
      ],
      "metadata": {
        "id": "-eFiyCaJOXLK"
      }
    },
    {
      "cell_type": "markdown",
      "source": [
        "Ans:- **`file.read()`**:\n",
        "- Reads the **entire content** of the file at once.\n",
        "- Returns the content as a single string.\n",
        "\n",
        "**`file.readline()`**:\n",
        "- Reads **one line** from the file at a time.\n",
        "- Returns the next line as a string.\n",
        "\n"
      ],
      "metadata": {
        "id": "pfnzbphHOmkU"
      }
    },
    {
      "cell_type": "markdown",
      "source": [
        "21. What is the logging module in Python used for ?"
      ],
      "metadata": {
        "id": "PHPaDX0gOqQy"
      }
    },
    {
      "cell_type": "markdown",
      "source": [
        "Ans:- The **`logging` module** in Python is used to track and record **log messages** generated by your program. It provides a way to log various levels of messages (e.g., `DEBUG`, `INFO`, `WARNING`, `ERROR`, `CRITICAL`) to help with:\n",
        "\n",
        "1. **Debugging**: Capturing detailed information for debugging.\n",
        "2. **Error Tracking**: Recording errors and exceptions for later analysis.\n",
        "3. **Monitoring**: Tracking the behavior and performance of your program over time.\n",
        "4. **Auditing**: Keeping records of important actions, like user login attempts or data modifications.\n",
        "\n",
        "The `logging` module is more flexible and powerful than using `print()` for logging, as it can direct log messages to files, control log verbosity, and format log output."
      ],
      "metadata": {
        "id": "7UCzY0qeOwDB"
      }
    },
    {
      "cell_type": "markdown",
      "source": [
        "22. What is the os module in Python used for in file handling ?"
      ],
      "metadata": {
        "id": "3XyaY_9XO8BK"
      }
    },
    {
      "cell_type": "markdown",
      "source": [
        "Ans:- The **`os` module** in Python is used for interacting with the **operating system** and provides functions for file handling, such as:\n",
        "\n",
        "1. **Path Manipulation**:\n",
        "   - `os.path.join()` — Combines paths in a platform-independent way.\n",
        "   - `os.path.exists()` — Checks if a file or directory exists.\n",
        "   - `os.path.isfile()` — Checks if a path is a file.\n",
        "   - `os.path.isdir()` — Checks if a path is a directory.\n",
        "\n",
        "2. **File Operations**:\n",
        "   - `os.remove()` — Deletes a file.\n",
        "   - `os.rename()` — Renames a file or directory.\n",
        "   - `os.mkdir()` — Creates a new directory.\n",
        "   - `os.rmdir()` — Removes an empty directory.\n",
        "   - `os.listdir()` — Lists files and directories in a given directory.\n",
        "\n",
        "3. **Working with the Current Directory**:\n",
        "   - `os.getcwd()` — Gets the current working directory.\n",
        "   - `os.chdir()` — Changes the current working directory.\n",
        "\n"
      ],
      "metadata": {
        "id": "QjyDeAjjPBuJ"
      }
    },
    {
      "cell_type": "markdown",
      "source": [
        "23. What are the challenges associated with memory management in Python ?"
      ],
      "metadata": {
        "id": "j1mVe_yxPK6y"
      }
    },
    {
      "cell_type": "markdown",
      "source": [
        "Ans:- Challenges associated with memory management in Python include:\n",
        "\n",
        "1. **Reference Counting Limitations**:\n",
        "   - Python uses reference counting to track memory usage, but it can fail to clean up circular references (when two or more objects reference each other). This can cause memory leaks.\n",
        "\n",
        "2. **Garbage Collection Overhead**:\n",
        "   - The garbage collector that handles cyclic references adds some performance overhead, especially when it runs periodically, which can impact performance in memory-intensive applications.\n",
        "\n",
        "3. **Memory Fragmentation**:\n",
        "   - Over time, memory can become fragmented due to dynamic memory allocation and deallocation, leading to inefficient memory use.\n",
        "\n",
        "4. **Global Interpreter Lock (GIL)**:\n",
        "   - The GIL limits Python's ability to fully utilize multiple CPU cores for parallel execution, affecting memory performance in multi-threaded applications.\n",
        "\n",
        "5. **Large Object Management**:\n",
        "   - Handling large data objects (e.g., large lists or dictionaries) can result in high memory consumption, especially if memory isn't properly released.\n",
        "\n",
        "6. **Unintentional Memory Retention**:\n",
        "   - Memory may not be freed if references to objects are unintentionally kept alive (e.g., in global variables or data structures), leading to excessive memory usage.\n",
        "\n"
      ],
      "metadata": {
        "id": "dUo7W2g1PSZI"
      }
    },
    {
      "cell_type": "markdown",
      "source": [
        "24.  How do you raise an exception manually in Python ?"
      ],
      "metadata": {
        "id": "DeV-H1l4PXkZ"
      }
    },
    {
      "cell_type": "markdown",
      "source": [
        "Ans:- In Python, you can raise an exception manually using the **`raise`** keyword followed by an exception type (built-in or custom). This triggers the exception and can include an optional error message.\n",
        "\n",
        "Example:\n",
        "```python\n",
        "raise ValueError(\"Invalid input!\")\n",
        "```\n"
      ],
      "metadata": {
        "id": "OaZ2Q3BOPlKQ"
      }
    },
    {
      "cell_type": "markdown",
      "source": [
        "25. Why is it important to use multithreading in certain applications ?"
      ],
      "metadata": {
        "id": "fHfH1a2pPr2r"
      }
    },
    {
      "cell_type": "markdown",
      "source": [
        "Ans:- Using **multithreading** in certain applications is important because it allows for:\n",
        "\n",
        "1. **Improved Performance**: Especially for **I/O-bound** tasks (like file reading, network requests), multithreading allows tasks to run concurrently, reducing wait times.\n",
        "  \n",
        "2. **Better Resource Utilization**: Threads can run in parallel on multiple cores (in multi-core systems), maximizing CPU usage, especially in applications that involve waiting for external resources.\n",
        "\n",
        "3. **Responsiveness**: In applications like GUI programs or web servers, multithreading can keep the application responsive by performing background tasks while the main thread handles user interaction.\n",
        "\n",
        "4. **Concurrency**: Enables multiple tasks (like data processing, downloads, or calculations) to occur at the same time, improving overall efficiency and throughput.\n",
        "\n"
      ],
      "metadata": {
        "id": "P6ITfoVTPwo_"
      }
    },
    {
      "cell_type": "markdown",
      "source": [
        "###**PRACTICAL QUESTION**"
      ],
      "metadata": {
        "id": "565CFNYCP6EA"
      }
    },
    {
      "cell_type": "markdown",
      "source": [
        "01.  How can you open a file for writing in Python and write a string to it ?\n"
      ],
      "metadata": {
        "id": "KUteVp6MQHdA"
      }
    },
    {
      "cell_type": "code",
      "execution_count": 2,
      "metadata": {
        "id": "Gi0L9waCCx2M"
      },
      "outputs": [],
      "source": [
        "with open('example.txt', 'w') as file:\n",
        "    file.write(\"Hello, this is a string written to the file!\")\n"
      ]
    },
    {
      "cell_type": "markdown",
      "source": [
        "02. Write a Python program to read the contents of a file and print each line."
      ],
      "metadata": {
        "id": "JFyQiShCQgQP"
      }
    },
    {
      "cell_type": "code",
      "source": [
        "# Open the file in read mode\n",
        "with open('example.txt', 'r') as file:\n",
        "    # Loop through each line in the file\n",
        "    for line in file:\n",
        "        print(line.strip())  # .strip() removes trailing newline characters\n"
      ],
      "metadata": {
        "colab": {
          "base_uri": "https://localhost:8080/"
        },
        "id": "-FDtBb49Qppo",
        "outputId": "b0dccdd9-5462-44b2-a22b-4228d5b0ed75"
      },
      "execution_count": 3,
      "outputs": [
        {
          "output_type": "stream",
          "name": "stdout",
          "text": [
            "Hello, this is a string written to the file!\n"
          ]
        }
      ]
    },
    {
      "cell_type": "markdown",
      "source": [
        "03.  How would you handle a case where the file doesn't exist while trying to open it for reading ?"
      ],
      "metadata": {
        "id": "E4cT-1RgC5sH"
      }
    },
    {
      "cell_type": "code",
      "source": [
        "try:\n",
        "    with open('example.txt', 'r') as file:\n",
        "        for line in file:\n",
        "            print(line.strip())\n",
        "except FileNotFoundError:\n",
        "    print(\"The file does not exist.\")\n"
      ],
      "metadata": {
        "colab": {
          "base_uri": "https://localhost:8080/"
        },
        "id": "H2I9kENnQ2Ww",
        "outputId": "de4da94e-c8e3-405a-b34a-55af25147cbe"
      },
      "execution_count": 4,
      "outputs": [
        {
          "output_type": "stream",
          "name": "stdout",
          "text": [
            "Hello, this is a string written to the file!\n"
          ]
        }
      ]
    },
    {
      "cell_type": "markdown",
      "source": [
        "04. Write a Python script that reads from one file and writes its content to another file."
      ],
      "metadata": {
        "id": "AuNXAKm8RKQ5"
      }
    },
    {
      "cell_type": "code",
      "source": [
        "# Read from source file and write to destination file\n",
        "with open('source.txt', 'r') as src_file:\n",
        "    content = src_file.read()\n",
        "\n",
        "with open('destination.txt', 'w') as dest_file:\n",
        "    dest_file.write(content)\n"
      ],
      "metadata": {
        "id": "7sEWFjfeQ9Vg"
      },
      "execution_count": 8,
      "outputs": []
    },
    {
      "cell_type": "markdown",
      "source": [
        "05. How would you catch and handle division by zero error in Python ?"
      ],
      "metadata": {
        "id": "0FPF9EjDRrd5"
      }
    },
    {
      "cell_type": "code",
      "source": [
        "try:\n",
        "    result = 10 / 0\n",
        "except ZeroDivisionError:\n",
        "    print(\"Cannot divide by zero.\")\n"
      ],
      "metadata": {
        "colab": {
          "base_uri": "https://localhost:8080/"
        },
        "id": "k0302gl-RWLv",
        "outputId": "1cd43310-2ab6-47e1-87c7-8ec9ea42c91f"
      },
      "execution_count": 9,
      "outputs": [
        {
          "output_type": "stream",
          "name": "stdout",
          "text": [
            "Cannot divide by zero.\n"
          ]
        }
      ]
    },
    {
      "cell_type": "markdown",
      "source": [
        "06. Write a Python program that logs an error message to a log file when a division by zero exception occurs."
      ],
      "metadata": {
        "id": "ymQ5ZBj6R9UO"
      }
    },
    {
      "cell_type": "code",
      "source": [
        "import logging\n",
        "\n",
        "# Configure logging\n",
        "logging.basicConfig(filename='error_log.txt', level=logging.ERROR,\n",
        "                    format='%(asctime)s - %(levelname)s - %(message)s')\n",
        "\n",
        "try:\n",
        "    result = 10 / 0\n",
        "except ZeroDivisionError as e:\n",
        "    logging.error(\"Division by zero error occurred: %s\", e)\n"
      ],
      "metadata": {
        "colab": {
          "base_uri": "https://localhost:8080/"
        },
        "id": "PcDW0gMSR4sv",
        "outputId": "3fbed2df-0ac1-42d9-9318-5740908c764c"
      },
      "execution_count": 10,
      "outputs": [
        {
          "output_type": "stream",
          "name": "stderr",
          "text": [
            "ERROR:root:Division by zero error occurred: division by zero\n"
          ]
        }
      ]
    },
    {
      "cell_type": "markdown",
      "source": [
        "07.  How do you log information at different levels (INFO, ERROR, WARNING) in Python using the logging module ?"
      ],
      "metadata": {
        "id": "V30Rh2UMSIdu"
      }
    },
    {
      "cell_type": "code",
      "source": [
        "import logging\n",
        "\n",
        "# Configure logging\n",
        "logging.basicConfig(level=logging.DEBUG, format='%(levelname)s: %(message)s')\n",
        "\n",
        "# Log messages at different levels\n",
        "logging.info(\"This is an info message.\")\n",
        "logging.warning(\"This is a warning message.\")\n",
        "logging.error(\"This is an error message.\")\n"
      ],
      "metadata": {
        "colab": {
          "base_uri": "https://localhost:8080/"
        },
        "id": "QEpP39AFSFKJ",
        "outputId": "568f70ec-e6ec-4aae-c395-343fe617bc43"
      },
      "execution_count": 11,
      "outputs": [
        {
          "output_type": "stream",
          "name": "stderr",
          "text": [
            "WARNING:root:This is a warning message.\n",
            "ERROR:root:This is an error message.\n"
          ]
        }
      ]
    },
    {
      "cell_type": "markdown",
      "source": [
        "08. Write a program to handle a file opening error using exception handling."
      ],
      "metadata": {
        "id": "bYY9t_EQSUgd"
      }
    },
    {
      "cell_type": "code",
      "source": [
        "try:\n",
        "    with open('nonexistent_file.txt', 'r') as file:\n",
        "        content = file.read()\n",
        "        print(content)\n",
        "except FileNotFoundError:\n",
        "    print(\"Error: The file was not found.\")\n"
      ],
      "metadata": {
        "colab": {
          "base_uri": "https://localhost:8080/"
        },
        "id": "a_ZHk-UsSR3l",
        "outputId": "bcb03aa8-11c8-4f82-c933-5fb20a475f96"
      },
      "execution_count": 12,
      "outputs": [
        {
          "output_type": "stream",
          "name": "stdout",
          "text": [
            "Error: The file was not found.\n"
          ]
        }
      ]
    },
    {
      "cell_type": "markdown",
      "source": [
        "09. How can you read a file line by line and store its content in a list in Python ?"
      ],
      "metadata": {
        "id": "6FbrwwP_SfsX"
      }
    },
    {
      "cell_type": "code",
      "source": [
        "###Example using a loop:\n",
        "lines = []\n",
        "with open('example.txt', 'r') as file:\n",
        "    for line in file:\n",
        "        lines.append(line.strip())\n",
        "\n",
        "\n",
        "###Example using list comprehension:\n",
        "lines = [line.strip() for line in open('example.txt', 'r')]\n",
        "\n"
      ],
      "metadata": {
        "id": "W5ibYqwsSdul"
      },
      "execution_count": 15,
      "outputs": []
    },
    {
      "cell_type": "markdown",
      "source": [
        "10. How can you append data to an existing file in Python ?"
      ],
      "metadata": {
        "id": "59o0QXcNTPj8"
      }
    },
    {
      "cell_type": "code",
      "source": [
        "with open('example.txt', 'a') as file:\n",
        "    file.write(\"This line will be added to the end of the file.\\n\")\n"
      ],
      "metadata": {
        "id": "NcRzRD_lS2F9"
      },
      "execution_count": 16,
      "outputs": []
    },
    {
      "cell_type": "markdown",
      "source": [
        "11. Write a Python program that uses a try-except block to handle an error when attempting to access a\n",
        "dictionary key that doesn't exist.|"
      ],
      "metadata": {
        "id": "IZzqdRLFTdjF"
      }
    },
    {
      "cell_type": "code",
      "source": [
        "# Sample dictionary\n",
        "person = {'name': 'Alice', 'age': 25}\n",
        "\n",
        "try:\n",
        "    # Trying to access a key that doesn't exist\n",
        "    print(person['address'])\n",
        "except KeyError:\n",
        "    print(\"Error: The key 'address' does not exist in the dictionary.\")\n"
      ],
      "metadata": {
        "colab": {
          "base_uri": "https://localhost:8080/"
        },
        "id": "VljGaSmWTac4",
        "outputId": "d41a97ba-e62c-45e1-aed0-9c36eb462734"
      },
      "execution_count": 17,
      "outputs": [
        {
          "output_type": "stream",
          "name": "stdout",
          "text": [
            "Error: The key 'address' does not exist in the dictionary.\n"
          ]
        }
      ]
    },
    {
      "cell_type": "markdown",
      "source": [
        "12.  Write a program that demonstrates using multiple except blocks to handle different types of exceptions."
      ],
      "metadata": {
        "id": "9NJmMlmrTmvd"
      }
    },
    {
      "cell_type": "code",
      "source": [
        "try:\n",
        "    # Simulate different types of exceptions\n",
        "    x = int(input(\"Enter a number: \"))  # This might raise ValueError\n",
        "    y = 10 / x  # This might raise ZeroDivisionError\n",
        "    result = [1, 2, 3]\n",
        "    print(result[5])  # This might raise IndexError\n",
        "\n",
        "except ValueError:\n",
        "    print(\"Error: Invalid input, please enter a valid number.\")\n",
        "\n",
        "except ZeroDivisionError:\n",
        "    print(\"Error: Cannot divide by zero.\")\n",
        "\n",
        "except IndexError:\n",
        "    print(\"Error: Index out of range.\")\n",
        "\n",
        "except Exception as e:\n",
        "    print(f\"An unexpected error occurred: {e}\")\n"
      ],
      "metadata": {
        "colab": {
          "base_uri": "https://localhost:8080/"
        },
        "id": "_uPgxdihTaaF",
        "outputId": "e840bd47-7fbf-40ad-e988-720e9078353e"
      },
      "execution_count": 19,
      "outputs": [
        {
          "output_type": "stream",
          "name": "stdout",
          "text": [
            "Enter a number: 2\n",
            "Error: Index out of range.\n"
          ]
        }
      ]
    },
    {
      "cell_type": "markdown",
      "source": [
        "13. How would you check if a file exists before attempting to read it in Python ?"
      ],
      "metadata": {
        "id": "v9oaVd_FT93U"
      }
    },
    {
      "cell_type": "code",
      "source": [
        "import os\n",
        "\n",
        "file_path = 'example.txt'\n",
        "\n",
        "if os.path.exists(file_path):\n",
        "    with open(file_path, 'r') as file:\n",
        "        content = file.read()\n",
        "        print(content)\n",
        "else:\n",
        "    print(\"File does not exist.\")\n"
      ],
      "metadata": {
        "colab": {
          "base_uri": "https://localhost:8080/"
        },
        "id": "8_Z8GHidUD5c",
        "outputId": "fc2b60bf-dc27-4637-ae3b-fca77d949c6b"
      },
      "execution_count": 20,
      "outputs": [
        {
          "output_type": "stream",
          "name": "stdout",
          "text": [
            "Hello, this is a string written to the file!This line will be added to the end of the file.\n",
            "\n"
          ]
        }
      ]
    },
    {
      "cell_type": "markdown",
      "source": [
        "14. Write a program that uses the logging module to log both informational and error messages."
      ],
      "metadata": {
        "id": "E75yevaSTPGF"
      }
    },
    {
      "cell_type": "code",
      "source": [
        "import logging\n",
        "\n",
        "# Configure logging to write to a file and set the logging level to INFO\n",
        "logging.basicConfig(filename='app.log', level=logging.INFO, format='%(asctime)s - %(levelname)s - %(message)s')\n",
        "\n",
        "# Log an informational message\n",
        "logging.info(\"This is an informational message.\")\n",
        "\n",
        "# Log an error message\n",
        "try:\n",
        "    result = 10 / 0  # Division by zero will raise an exception\n",
        "except ZeroDivisionError as e:\n",
        "    logging.error(f\"Error occurred: {e}\")\n"
      ],
      "metadata": {
        "colab": {
          "base_uri": "https://localhost:8080/"
        },
        "id": "qujDjFjaUNNU",
        "outputId": "9aaae474-73ad-449b-8d8a-3711e72d9644"
      },
      "execution_count": 21,
      "outputs": [
        {
          "output_type": "stream",
          "name": "stderr",
          "text": [
            "ERROR:root:Error occurred: division by zero\n"
          ]
        }
      ]
    },
    {
      "cell_type": "markdown",
      "source": [
        "15. Write a Python program that prints the content of a file and handles the case when the file is empty."
      ],
      "metadata": {
        "id": "CBifNkvxUR7N"
      }
    },
    {
      "cell_type": "code",
      "source": [
        "try:\n",
        "    with open('example.txt', 'r') as file:\n",
        "        content = file.read()\n",
        "        if content:  # Check if the file is not empty\n",
        "            print(content)\n",
        "        else:\n",
        "            print(\"The file is empty.\")\n",
        "except FileNotFoundError:\n",
        "    print(\"Error: The file does not exist.\")\n"
      ],
      "metadata": {
        "colab": {
          "base_uri": "https://localhost:8080/"
        },
        "id": "J44rfr5hUQxD",
        "outputId": "e586d29c-fa2d-4944-fd48-45ab01d01180"
      },
      "execution_count": 22,
      "outputs": [
        {
          "output_type": "stream",
          "name": "stdout",
          "text": [
            "Hello, this is a string written to the file!This line will be added to the end of the file.\n",
            "\n"
          ]
        }
      ]
    },
    {
      "cell_type": "markdown",
      "source": [
        "16. Demonstrate how to use memory profiling to check the memory usage of a small program."
      ],
      "metadata": {
        "id": "GdyEhOjjUbPE"
      }
    },
    {
      "cell_type": "code",
      "source": [
        "pip install memory-profiler\n",
        "\n",
        "from memory_profiler import profile\n",
        "\n",
        "@profile\n",
        "def my_function():\n",
        "    a = [i for i in range(10000)]  # Create a list of 10,000 numbers\n",
        "    b = [i * 2 for i in a]         # Create another list by multiplying each number\n",
        "    return a, b\n",
        "\n",
        "# Run the function\n",
        "if __name__ == '__main__':\n",
        "    my_function()\n",
        "\n",
        "python -m memory_profiler your_script_name.py\n",
        "\n",
        ""
      ],
      "metadata": {
        "id": "_p8iL8fcUZyT"
      },
      "execution_count": 27,
      "outputs": []
    },
    {
      "cell_type": "markdown",
      "source": [
        "17. Write a Python program to create and write a list of numbers to a file, one number per line."
      ],
      "metadata": {
        "id": "QGRhSGiAVrh6"
      }
    },
    {
      "cell_type": "code",
      "source": [
        "# List of numbers\n",
        "numbers = [1, 2, 3, 4, 5, 6, 7, 8, 9, 10]\n",
        "\n",
        "# Open the file in write mode\n",
        "with open('numbers.txt', 'w') as file:\n",
        "    for number in numbers:\n",
        "        file.write(f\"{number}\\n\")  # Write each number followed by a new line\n"
      ],
      "metadata": {
        "id": "T4mLTNr3UzJb"
      },
      "execution_count": 28,
      "outputs": []
    },
    {
      "cell_type": "markdown",
      "source": [
        "18. How would you implement a basic logging setup that logs to a file with rotation after 1MB ?"
      ],
      "metadata": {
        "id": "7pqUovsNV4Y6"
      }
    },
    {
      "cell_type": "code",
      "source": [
        "import logging\n",
        "from logging.handlers import RotatingFileHandler\n",
        "\n",
        "# Set up the rotating log file handler\n",
        "log_handler = RotatingFileHandler('app.log', maxBytes=1e6, backupCount=3)  # 1MB max size, 3 backups\n",
        "log_handler.setLevel(logging.INFO)\n",
        "\n",
        "# Create a log formatter\n",
        "formatter = logging.Formatter('%(asctime)s - %(levelname)s - %(message)s')\n",
        "log_handler.setFormatter(formatter)\n",
        "\n",
        "# Set up logging with the handler\n",
        "logger = logging.getLogger()\n",
        "logger.setLevel(logging.INFO)\n",
        "logger.addHandler(log_handler)\n",
        "\n",
        "# Example of logging messages\n",
        "logger.info(\"This is an informational message.\")\n",
        "logger.error(\"This is an error message.\")\n"
      ],
      "metadata": {
        "colab": {
          "base_uri": "https://localhost:8080/"
        },
        "id": "Z_-ILGVmV2gi",
        "outputId": "62ea4009-9e59-47b6-9389-71977dd0f9a5"
      },
      "execution_count": 29,
      "outputs": [
        {
          "output_type": "stream",
          "name": "stderr",
          "text": [
            "INFO:root:This is an informational message.\n",
            "ERROR:root:This is an error message.\n"
          ]
        }
      ]
    },
    {
      "cell_type": "markdown",
      "source": [
        "19. Write a program that handles both IndexError and KeyError using a try-except block."
      ],
      "metadata": {
        "id": "MHgF1sx7WEaK"
      }
    },
    {
      "cell_type": "code",
      "source": [
        "# Example data\n",
        "my_list = [1, 2, 3]\n",
        "my_dict = {'a': 1, 'b': 2}\n",
        "\n",
        "try:\n",
        "    # Trying to access an element in the list that doesn't exist (IndexError)\n",
        "    print(my_list[5])\n",
        "\n",
        "    # Trying to access a key in the dictionary that doesn't exist (KeyError)\n",
        "    print(my_dict['c'])\n",
        "\n",
        "except IndexError:\n",
        "    print(\"Error: Index out of range in the list.\")\n",
        "except KeyError:\n",
        "    print(\"Error: Key not found in the dictionary.\")\n"
      ],
      "metadata": {
        "colab": {
          "base_uri": "https://localhost:8080/"
        },
        "id": "5Hh73GOoWCZK",
        "outputId": "728444aa-75ce-41b4-9194-b6b835401862"
      },
      "execution_count": 30,
      "outputs": [
        {
          "output_type": "stream",
          "name": "stdout",
          "text": [
            "Error: Index out of range in the list.\n"
          ]
        }
      ]
    },
    {
      "cell_type": "markdown",
      "source": [
        "20. How would you open a file and read its contents using a context manager in Python ?"
      ],
      "metadata": {
        "id": "JuPrhTPiWOk6"
      }
    },
    {
      "cell_type": "code",
      "source": [
        "# Open and read the contents of the file using a context manager\n",
        "with open('example.txt', 'r') as file:\n",
        "    content = file.read()  # Read the entire file\n",
        "    print(content)\n"
      ],
      "metadata": {
        "colab": {
          "base_uri": "https://localhost:8080/"
        },
        "id": "Cxq0hdZLWMJb",
        "outputId": "57fb8cd1-5f00-483b-c886-bb0102ebc19e"
      },
      "execution_count": 31,
      "outputs": [
        {
          "output_type": "stream",
          "name": "stdout",
          "text": [
            "Hello, this is a string written to the file!This line will be added to the end of the file.\n",
            "\n"
          ]
        }
      ]
    },
    {
      "cell_type": "markdown",
      "source": [
        "21. Write a Python program that reads a file and prints the number of occurrences of a specific word."
      ],
      "metadata": {
        "id": "dnrk9VMeWfHx"
      }
    },
    {
      "cell_type": "code",
      "source": [
        "# Define the word to search for\n",
        "word_to_search = 'python'\n",
        "\n",
        "# Initialize a counter for the word occurrences\n",
        "word_count = 0\n",
        "\n",
        "# Open the file using a context manager\n",
        "with open('example.txt', 'r') as file:\n",
        "    for line in file:\n",
        "        # Split each line into words and count occurrences of the word\n",
        "        word_count += line.lower().split().count(word_to_search.lower())\n",
        "\n",
        "# Print the result\n",
        "print(f\"The word '{word_to_search}' appears {word_count} times in the file.\")\n"
      ],
      "metadata": {
        "colab": {
          "base_uri": "https://localhost:8080/"
        },
        "id": "EhiarvyLWdnZ",
        "outputId": "d324ebc5-9f2b-48c2-901f-a8bf1cff1965"
      },
      "execution_count": 32,
      "outputs": [
        {
          "output_type": "stream",
          "name": "stdout",
          "text": [
            "The word 'python' appears 0 times in the file.\n"
          ]
        }
      ]
    },
    {
      "cell_type": "markdown",
      "source": [
        "22.  How can you check if a file is empty before attempting to read its contents ?"
      ],
      "metadata": {
        "id": "ir5TCLZhW71R"
      }
    },
    {
      "cell_type": "code",
      "source": [
        "import os\n",
        "\n",
        "file_path = 'example.txt'\n",
        "\n",
        "# Check if the file exists and its size\n",
        "if os.path.exists(file_path) and os.stat(file_path).st_size == 0:\n",
        "    print(\"The file is empty.\")\n",
        "else:\n",
        "    with open(file_path, 'r') as file:\n",
        "        content = file.read()\n",
        "        print(content)\n"
      ],
      "metadata": {
        "colab": {
          "base_uri": "https://localhost:8080/"
        },
        "id": "ucrEs4LmWuyR",
        "outputId": "75ac3cc3-0d84-4ebf-b594-c07fc644ee43"
      },
      "execution_count": 33,
      "outputs": [
        {
          "output_type": "stream",
          "name": "stdout",
          "text": [
            "Hello, this is a string written to the file!This line will be added to the end of the file.\n",
            "\n"
          ]
        }
      ]
    },
    {
      "cell_type": "markdown",
      "source": [
        "23. Write a Python program that writes to a log file when an error occurs during file handling."
      ],
      "metadata": {
        "id": "sDPmDgsIXD3z"
      }
    },
    {
      "cell_type": "code",
      "source": [
        "import logging\n",
        "\n",
        "# Configure the logging to write to a log file\n",
        "logging.basicConfig(filename='file_handling_errors.log', level=logging.ERROR, format='%(asctime)s - %(levelname)s - %(message)s')\n",
        "\n",
        "try:\n",
        "    # Attempt to open a non-existent file for reading\n",
        "    with open('non_existent_file.txt', 'r') as file:\n",
        "        content = file.read()\n",
        "        print(content)\n",
        "\n",
        "except Exception as e:\n",
        "    # Log the error with the exception message\n",
        "    logging.error(f\"Error occurred while handling the file: {e}\")\n",
        "    print(\"An error occurred. Please check the log file for details.\")\n"
      ],
      "metadata": {
        "colab": {
          "base_uri": "https://localhost:8080/"
        },
        "id": "eDnPezmuXCSY",
        "outputId": "dd2e5e06-111d-4d3c-8cc7-526658471caf"
      },
      "execution_count": 34,
      "outputs": [
        {
          "output_type": "stream",
          "name": "stderr",
          "text": [
            "ERROR:root:Error occurred while handling the file: [Errno 2] No such file or directory: 'non_existent_file.txt'\n"
          ]
        },
        {
          "output_type": "stream",
          "name": "stdout",
          "text": [
            "An error occurred. Please check the log file for details.\n"
          ]
        }
      ]
    },
    {
      "cell_type": "code",
      "source": [],
      "metadata": {
        "id": "SHlJOnpsXPBg"
      },
      "execution_count": null,
      "outputs": []
    }
  ]
}